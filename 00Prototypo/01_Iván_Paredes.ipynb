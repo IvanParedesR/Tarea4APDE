{
 "cells": [
  {
   "cell_type": "markdown",
   "id": "b4f1cdf7",
   "metadata": {},
   "source": [
    "## Tarea 1\n",
    "#### Maker: Iván Paredes Reséndiz\n",
    "##### Ultima actualización: 26-01-24\n",
    "\n",
    "Resumen: En este script desarrollaremos un modelo para estimar adecuadamente el precio de las casas con diversas tecnicas de análisis. La estructura del documento es la siguiente: 1. Cargar bases y librerias, 2. Analizar relaciones, 3. Generar modelo, 4. Realizar pronosctico; y 5. Comparar modelo"
   ]
  },
  {
   "cell_type": "code",
   "execution_count": null,
   "id": "19d800f9",
   "metadata": {},
   "outputs": [],
   "source": [
    "# Cargamos librerías, en general agregamos su documentación para futura consulta, salvo por pandas que es de uso más común.\n",
    "import pandas as pd\n",
    "import seaborn as sns #https://seaborn.pydata.org/installing.html\n",
    "import statsmodels.api as smf #https://www.statsmodels.org/v0.10.2/importpaths.html\n",
    "import statsmodels.formula.api as smq\n",
    "import statsmodels.regression.linear_model as sm\n",
    "from sklearn.model_selection import train_test_split #https://scikit-learn.org/stable/\n",
    "from sklearn.linear_model import LinearRegression\n",
    "from sklearn.metrics import mean_squared_error\n",
    "import matplotlib.pyplot as plt #https://matplotlib.org/2.0.2/users/pyplot_tutorial.html"
   ]
  },
  {
   "cell_type": "code",
   "execution_count": null,
   "id": "20c6cc81",
   "metadata": {},
   "outputs": [],
   "source": [
    "# Cargar el dataset de entrenamiento que se encuentra en el mismo lugar de \n",
    "df_training = pd.read_csv('train.csv')"
   ]
  },
  {
   "cell_type": "markdown",
   "id": "fde3fb99",
   "metadata": {},
   "source": [
    "En toda esta sección hacemos una exploración de la data de entrenamiento que tenemos. Por ejemplo, el tamaño de la base en términos de observaciones y variables, un summary con los valores de media, varianza y otras medidas estadísticas."
   ]
  },
  {
   "cell_type": "code",
   "execution_count": null,
   "id": "7a5ac999",
   "metadata": {},
   "outputs": [],
   "source": [
    "# Ver el tamaño del set\n",
    "print(\"train size:\",df_training.shape)\n",
    "\n",
    "# El resultado es: train size: (1460, 81)"
   ]
  },
  {
   "cell_type": "code",
   "execution_count": null,
   "id": "0a2af9a3",
   "metadata": {},
   "outputs": [],
   "source": [
    "#Vemos las 10 primeras observaciones y las variables numericas.\n",
    "df_training.describe()"
   ]
  },
  {
   "cell_type": "code",
   "execution_count": null,
   "id": "5bf0e187",
   "metadata": {},
   "outputs": [],
   "source": [
    "#Información de los tipos de variable, hay bastantes que son objeto.\n",
    "df_training.info()"
   ]
  },
  {
   "cell_type": "code",
   "execution_count": null,
   "id": "38d473bd",
   "metadata": {},
   "outputs": [],
   "source": [
    "# Describimos la variable dependiente de precio de venta y \n",
    "print(df_training['SalePrice'].describe())"
   ]
  },
  {
   "cell_type": "markdown",
   "id": "422d4197",
   "metadata": {},
   "source": [
    "Hay varias cosas que observar en los datos de la variable de Precio de venta que es la que tratamos de pronosticar. Por ejemplo, tiene datos atipicos altos, que es conveniente eliminar. Esto se puede observar más claramente en el histograma,"
   ]
  },
  {
   "cell_type": "code",
   "execution_count": null,
   "id": "d3da5581",
   "metadata": {},
   "outputs": [],
   "source": [
    "#Graficamos su histograma\n",
    "plt.figure(figsize=(9, 5)) # Establecemos tamaño\n",
    "sns.distplot(df_training['SalePrice'], color='r', bins=50, hist_kws={'alpha': 0.4});"
   ]
  },
  {
   "cell_type": "code",
   "execution_count": null,
   "id": "60e515b3",
   "metadata": {},
   "outputs": [],
   "source": [
    "# Eliminamos los datos que no son numericos y creamos un mapa de calor con la relación entre las distintas variables.\n",
    "df_corr = df_training.astype(\"float64\",errors='ignore')\n",
    "df_corr = df_corr.select_dtypes(exclude=\"object\")\n",
    "plt.subplots(figsize=(12,9))\n",
    "sns.heatmap(df_corr.corr())"
   ]
  },
  {
   "cell_type": "markdown",
   "id": "b59c90df",
   "metadata": {},
   "source": [
    "En el mapa de calor anterior podemos observar algunas de las variables más relevantes y su correlación con el Precio de venta SalePrice. Del mismo modo podemos observar que hay otras variables como el PoolArea o variables relacionadas con el portíco que parecen no tener correlación con el precio de venta."
   ]
  },
  {
   "cell_type": "code",
   "execution_count": null,
   "id": "70ce9c5a",
   "metadata": {},
   "outputs": [],
   "source": [
    "# Catalogamos las 10 caracteristicas principales\n",
    "top15corrcaracteri = df_corr.corr()['SalePrice']\n",
    "top15corrcaracteri = top15corrcaracteri[:15]\n",
    "print(top15corrcaracteri)\n"
   ]
  },
  {
   "cell_type": "code",
   "execution_count": null,
   "id": "056008b7",
   "metadata": {},
   "outputs": [],
   "source": [
    "# Realizamos planos de scatter con variables relevates antes calculadas \n",
    "plt.title(\"Scatter de 'SalePrice'vs '1stFlrSF'\")\n",
    "plt.scatter(x=df_training['1stFlrSF'], y=df_training['SalePrice'])\n",
    "plt.plot()"
   ]
  },
  {
   "cell_type": "code",
   "execution_count": null,
   "id": "2b708947",
   "metadata": {},
   "outputs": [],
   "source": [
    "# Realizamos planos de scatter con variables relevates antes calculadas \n",
    "plt.title(\"Scatter de 'SalePrice'vs 'OverallQual'\")\n",
    "plt.scatter(x=df_training['OverallQual'], y=df_training['SalePrice'])\n",
    "plt.plot()"
   ]
  },
  {
   "cell_type": "code",
   "execution_count": null,
   "id": "7fa8b54a",
   "metadata": {},
   "outputs": [],
   "source": [
    "# Realizamos planos de scatter con variables relevates antes calculadas \n",
    "plt.title(\"Scatter de 'SalePrice'vs 'TotalBsmtSF'\")\n",
    "plt.scatter(x=df_training['TotalBsmtSF'], y=df_training['SalePrice'])\n",
    "plt.plot()"
   ]
  },
  {
   "cell_type": "code",
   "execution_count": null,
   "id": "3473c54e",
   "metadata": {},
   "outputs": [],
   "source": [
    "#elminamos los valores extremos, la segmentacion se debe a que en el histograma esos valores son pocos y están por encima del 95% de la muestra\n",
    "df_training.drop(df_training[(df_training['SalePrice']>450000)].index, inplace=True)"
   ]
  },
  {
   "cell_type": "code",
   "execution_count": null,
   "id": "c6544408",
   "metadata": {},
   "outputs": [],
   "source": [
    "# Observamos el nuevo tamaño de la base, se perdieron menos de 14 valores, el 0.001% de la base\n",
    "print(\"train size:\",df_training.shape)"
   ]
  },
  {
   "cell_type": "code",
   "execution_count": null,
   "id": "d8b14c6f",
   "metadata": {},
   "outputs": [],
   "source": [
    "# Preparamos los datos de la regresión, agregamos una constante\n",
    "X = df_training[['OverallQual','LotArea','GrLivArea','GarageCars','YearBuilt','YearRemodAdd','MSSubClass','1stFlrSF','TotalBsmtSF']]  # Cambia 'tu_variable_independiente' por el nombre de tu columna\n",
    "y = df_training['SalePrice'] \n",
    "X = smf.add_constant(X)"
   ]
  },
  {
   "cell_type": "code",
   "execution_count": null,
   "id": "86e27c25",
   "metadata": {},
   "outputs": [],
   "source": [
    "# Crear el modelo de regresión lineal\n",
    "#modelo = LinearRegression()"
   ]
  },
  {
   "cell_type": "markdown",
   "id": "ee434aa6",
   "metadata": {},
   "source": [
    "### Justificación del modelo usado.\n",
    "El uso de mínimos cuadrados para analizar y pronosticar el precio de venta de biene inmuebles es eficiente y fácil de interpretar. Consideró que en este caso la relación entre las variables independientes (como el tamaño de la casa, el númedo de estacionamientos, el año de renovación) y la variable dependiente (el precio de la casa) es lineal para valores no extremos. Los  mínimos cuadrados, al buscar minimizar la suma de los cuadrados de las diferencias entre los valores observados y los valores predichos, proporcionan una manera directa y objetiva de estimar los coeficientes de la relación lineal. El enfoque de mínimos cuadrados facilita la interpretación de los resultados, ya que los coeficientes estimados pueden ser directamente interpretados como el cambio en el precio de la vivienda por cada unidad de cambio en las variables independientes, asumiendo que todas las demás variables se mantienen constantes.\n"
   ]
  },
  {
   "cell_type": "code",
   "execution_count": null,
   "id": "7b062fda",
   "metadata": {},
   "outputs": [],
   "source": [
    "model = sm.OLS(y,X)\n",
    "fitted_model = model.fit()\n",
    "fitted_model.summary()"
   ]
  },
  {
   "cell_type": "code",
   "execution_count": null,
   "id": "5c875951",
   "metadata": {},
   "outputs": [],
   "source": [
    "# El modelo señala que The condition number is large, 1.8e+06. This might indicate that there are strong multicollinearity or other numerical problems. \n",
    "# La solución es eliminar 1stFlrSF que puede estar repetida con TotalBsmtSF, YearBuilt y GrLivArea"
   ]
  },
  {
   "cell_type": "code",
   "execution_count": null,
   "id": "89bec61f",
   "metadata": {},
   "outputs": [],
   "source": [
    "# Preparamos los datos de la regresión corrigiendo lo que señalamos en la línea previa\n",
    "X = df_training[['OverallQual','LotArea','GarageCars','YearRemodAdd','MSSubClass','TotalBsmtSF']]  # Cambia 'tu_variable_independiente' por el nombre de tu columna\n",
    "y = df_training['SalePrice'] \n",
    "X = smf.add_constant(X)\n",
    "model = sm.OLS(y,X)\n",
    "fitted_model = model.fit()\n",
    "fitted_model.summary()"
   ]
  },
  {
   "cell_type": "code",
   "execution_count": null,
   "id": "4627e250",
   "metadata": {},
   "outputs": [],
   "source": [
    "# Cargar el dataset de entrenamiento\n",
    "df_test = pd.read_csv('C:/Users/CFC/Downloads/house-prices-advanced-regression-techniques/test.csv')"
   ]
  },
  {
   "cell_type": "code",
   "execution_count": null,
   "id": "710f7c4f",
   "metadata": {},
   "outputs": [],
   "source": [
    "#Observamos su información, el número de datos que tenemos es cercano al que tenemos como entrenamiento\n",
    "df_test.info()"
   ]
  },
  {
   "cell_type": "code",
   "execution_count": null,
   "id": "31d7e905",
   "metadata": {},
   "outputs": [],
   "source": [
    "#Vemos las 10 primeras observaciones y las variables numericas.\n",
    "df_test.describe()"
   ]
  },
  {
   "cell_type": "code",
   "execution_count": null,
   "id": "6dac2c23",
   "metadata": {},
   "outputs": [],
   "source": [
    "X_test = df_test[['OverallQual','LotArea','GarageCars','YearRemodAdd','MSSubClass','TotalBsmtSF']]\n",
    "X_test = smf.add_constant(X_test)\n",
    "df_test.describe()"
   ]
  },
  {
   "cell_type": "code",
   "execution_count": null,
   "id": "cbdb119a",
   "metadata": {},
   "outputs": [],
   "source": [
    "## Con el modelo antes calculado, aquí le pedimos al usuario que señale sus valores esperados para cada variable.\n",
    "numero1 = float(input(f\"Del 1 al 10 en que tan buena condición esperas que este la casa, siendo 1 mala y 10 excelente: \"))\n",
    "numero2 = float(input(f\"De qué tamaño esperas que sea el terreno en pies cuadrados: \"))\n",
    "numero3 = float(input(f\"Cuántos lugares de estacionamiento quieres: \"))\n",
    "numero4 = float(input(f\"Año de su última renovación en 4 cifras: \"))\n",
    "\n",
    "# Realizamos el cálculo\n",
    "resultado = -8.485e+05 + (numero1 * 2.989e+04) + (numero2 * 1.1699) + (numero3 * 2.29e+04) + (numero4 * 399.0900)\n",
    "\n",
    "# Imprimimos el resultado\n",
    "print(f\"El precio aproximado de una casa con esas caracteristicas es: {int(resultado)}\")\n"
   ]
  },
  {
   "cell_type": "code",
   "execution_count": null,
   "id": "d9699a5d",
   "metadata": {},
   "outputs": [],
   "source": []
  }
 ],
 "metadata": {
  "kernelspec": {
   "display_name": "Python 3 (ipykernel)",
   "language": "python",
   "name": "python3"
  },
  "language_info": {
   "codemirror_mode": {
    "name": "ipython",
    "version": 3
   },
   "file_extension": ".py",
   "mimetype": "text/x-python",
   "name": "python",
   "nbconvert_exporter": "python",
   "pygments_lexer": "ipython3",
   "version": "3.11.5"
  }
 },
 "nbformat": 4,
 "nbformat_minor": 5
}
